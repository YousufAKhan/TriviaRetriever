{
  "nbformat": 4,
  "nbformat_minor": 5,
  "metadata": {
    "kernelspec": {
      "display_name": "Python 3",
      "language": "python",
      "name": "python3"
    },
    "language_info": {
      "codemirror_mode": {
        "name": "ipython",
        "version": 3
      },
      "file_extension": ".py",
      "mimetype": "text/x-python",
      "name": "python",
      "nbconvert_exporter": "python",
      "pygments_lexer": "ipython3",
      "version": "3.6.11"
    },
    "colab": {
      "name": "YousufTrivia.ipynb",
      "provenance": [],
      "collapsed_sections": []
    }
  },
  "cells": [
    {
      "cell_type": "code",
      "metadata": {
        "id": "2ab27d73"
      },
      "source": [
        "import urllib.request, json \n",
        "import html\n",
        "import random"
      ],
      "id": "2ab27d73",
      "execution_count": null,
      "outputs": []
    },
    {
      "cell_type": "code",
      "metadata": {
        "id": "8c6f7e20"
      },
      "source": [
        "# get token to prevent loading identical questions\n",
        "token = ''\n",
        "with urllib.request.urlopen(\"https://opentdb.com/api_token.php?command=request\") as url:\n",
        "    data = json.loads(url.read().decode())\n",
        "    token = data['token']"
      ],
      "id": "8c6f7e20",
      "execution_count": null,
      "outputs": []
    },
    {
      "cell_type": "code",
      "metadata": {
        "colab": {
          "base_uri": "https://localhost:8080/"
        },
        "id": "efdd9770",
        "outputId": "586ed3c1-1588-49a1-f02c-c244fb8a8a67"
      },
      "source": [
        "# get list of categories and category ids\n",
        "with urllib.request.urlopen(\"https://opentdb.com/api_category.php\") as url:\n",
        "    data = json.loads(url.read().decode())\n",
        "    cats = data['trivia_categories']\n",
        "    for cat in cats:\n",
        "        print(cat)\n"
      ],
      "id": "efdd9770",
      "execution_count": null,
      "outputs": [
        {
          "output_type": "stream",
          "name": "stdout",
          "text": [
            "{'id': 9, 'name': 'General Knowledge'}\n",
            "{'id': 10, 'name': 'Entertainment: Books'}\n",
            "{'id': 11, 'name': 'Entertainment: Film'}\n",
            "{'id': 12, 'name': 'Entertainment: Music'}\n",
            "{'id': 13, 'name': 'Entertainment: Musicals & Theatres'}\n",
            "{'id': 14, 'name': 'Entertainment: Television'}\n",
            "{'id': 15, 'name': 'Entertainment: Video Games'}\n",
            "{'id': 16, 'name': 'Entertainment: Board Games'}\n",
            "{'id': 17, 'name': 'Science & Nature'}\n",
            "{'id': 18, 'name': 'Science: Computers'}\n",
            "{'id': 19, 'name': 'Science: Mathematics'}\n",
            "{'id': 20, 'name': 'Mythology'}\n",
            "{'id': 21, 'name': 'Sports'}\n",
            "{'id': 22, 'name': 'Geography'}\n",
            "{'id': 23, 'name': 'History'}\n",
            "{'id': 24, 'name': 'Politics'}\n",
            "{'id': 25, 'name': 'Art'}\n",
            "{'id': 26, 'name': 'Celebrities'}\n",
            "{'id': 27, 'name': 'Animals'}\n",
            "{'id': 28, 'name': 'Vehicles'}\n",
            "{'id': 29, 'name': 'Entertainment: Comics'}\n",
            "{'id': 30, 'name': 'Science: Gadgets'}\n",
            "{'id': 31, 'name': 'Entertainment: Japanese Anime & Manga'}\n",
            "{'id': 32, 'name': 'Entertainment: Cartoon & Animations'}\n"
          ]
        }
      ]
    },
    {
      "cell_type": "code",
      "metadata": {
        "colab": {
          "base_uri": "https://localhost:8080/"
        },
        "id": "ff8f05ae",
        "outputId": "f8d29d82-2ce6-4dab-ff0b-0b18a8902280"
      },
      "source": [
        "# construct URL based on input parameters\n",
        "baseurl = \"https://opentdb.com/api.php?\"\n",
        "amount = '50'\n",
        "category = ''\n",
        "difficulty = ''\n",
        "typ = 'multiple'\n",
        "\n",
        "param_names = ['amount', 'category', 'difficulty', 'type']\n",
        "parameters = [amount, category, difficulty, typ]\n",
        "for i in range(len(parameters)):\n",
        "    param = parameters[i]\n",
        "    if len(param) > 0:\n",
        "        baseurl = baseurl + param_names[i] + '=' + param + '&'\n",
        "baseurl = baseurl + 'token=' + str(token)\n",
        "print(baseurl)"
      ],
      "id": "ff8f05ae",
      "execution_count": null,
      "outputs": [
        {
          "output_type": "stream",
          "name": "stdout",
          "text": [
            "https://opentdb.com/api.php?amount=50&type=multiple&token=5f373ff6ac7df4bd05c5df8975c4c7eeae81be39aa40b651c879405edaa7940c\n"
          ]
        }
      ]
    },
    {
      "cell_type": "code",
      "metadata": {
        "id": "60514c28"
      },
      "source": [
        "# load questions\n",
        "questions = []\n",
        "answers = []\n",
        "choices = []\n",
        "with urllib.request.urlopen(baseurl) as url:\n",
        "    data = json.loads(url.read().decode())\n",
        "    results = data['results']\n",
        "    for result in results:\n",
        "        questions.append(result['question'])\n",
        "        answers.append(result['correct_answer'])\n",
        "        all_answers = result['incorrect_answers']\n",
        "        all_answers.append(result['correct_answer'])\n",
        "        choices.append(all_answers)"
      ],
      "id": "60514c28",
      "execution_count": null,
      "outputs": []
    },
    {
      "cell_type": "code",
      "metadata": {
        "id": "180d02f7"
      },
      "source": [
        "i = 0"
      ],
      "id": "180d02f7",
      "execution_count": null,
      "outputs": []
    },
    {
      "cell_type": "code",
      "metadata": {
        "scrolled": false,
        "colab": {
          "base_uri": "https://localhost:8080/",
          "height": 233
        },
        "id": "5df6749d",
        "outputId": "878dc1c1-c3b1-41c9-837d-a45757b21df0"
      },
      "source": [
        "mult = ['A', 'B', 'C', 'D']\n",
        "print(i, html.unescape(questions[i]))\n",
        "ans = random.sample(choices[i], len(choices[i]))\n",
        "for j in range(len(ans)):\n",
        "    print(str(mult[j]) + \":\", html.unescape(ans[j]))\n",
        "print(\"\")"
      ],
      "id": "5df6749d",
      "execution_count": null,
      "outputs": [
        {
          "output_type": "error",
          "ename": "IndexError",
          "evalue": "ignored",
          "traceback": [
            "\u001b[0;31m---------------------------------------------------------------------------\u001b[0m",
            "\u001b[0;31mIndexError\u001b[0m                                Traceback (most recent call last)",
            "\u001b[0;32m<ipython-input-108-c86a36991831>\u001b[0m in \u001b[0;36m<module>\u001b[0;34m()\u001b[0m\n\u001b[1;32m      1\u001b[0m \u001b[0mmult\u001b[0m \u001b[0;34m=\u001b[0m \u001b[0;34m[\u001b[0m\u001b[0;34m'A'\u001b[0m\u001b[0;34m,\u001b[0m \u001b[0;34m'B'\u001b[0m\u001b[0;34m,\u001b[0m \u001b[0;34m'C'\u001b[0m\u001b[0;34m,\u001b[0m \u001b[0;34m'D'\u001b[0m\u001b[0;34m]\u001b[0m\u001b[0;34m\u001b[0m\u001b[0;34m\u001b[0m\u001b[0m\n\u001b[0;32m----> 2\u001b[0;31m \u001b[0mprint\u001b[0m\u001b[0;34m(\u001b[0m\u001b[0mi\u001b[0m\u001b[0;34m,\u001b[0m \u001b[0mhtml\u001b[0m\u001b[0;34m.\u001b[0m\u001b[0munescape\u001b[0m\u001b[0;34m(\u001b[0m\u001b[0mquestions\u001b[0m\u001b[0;34m[\u001b[0m\u001b[0mi\u001b[0m\u001b[0;34m]\u001b[0m\u001b[0;34m)\u001b[0m\u001b[0;34m)\u001b[0m\u001b[0;34m\u001b[0m\u001b[0;34m\u001b[0m\u001b[0m\n\u001b[0m\u001b[1;32m      3\u001b[0m \u001b[0mans\u001b[0m \u001b[0;34m=\u001b[0m \u001b[0mrandom\u001b[0m\u001b[0;34m.\u001b[0m\u001b[0msample\u001b[0m\u001b[0;34m(\u001b[0m\u001b[0mchoices\u001b[0m\u001b[0;34m[\u001b[0m\u001b[0mi\u001b[0m\u001b[0;34m]\u001b[0m\u001b[0;34m,\u001b[0m \u001b[0mlen\u001b[0m\u001b[0;34m(\u001b[0m\u001b[0mchoices\u001b[0m\u001b[0;34m[\u001b[0m\u001b[0mi\u001b[0m\u001b[0;34m]\u001b[0m\u001b[0;34m)\u001b[0m\u001b[0;34m)\u001b[0m\u001b[0;34m\u001b[0m\u001b[0;34m\u001b[0m\u001b[0m\n\u001b[1;32m      4\u001b[0m \u001b[0;32mfor\u001b[0m \u001b[0mj\u001b[0m \u001b[0;32min\u001b[0m \u001b[0mrange\u001b[0m\u001b[0;34m(\u001b[0m\u001b[0mlen\u001b[0m\u001b[0;34m(\u001b[0m\u001b[0mans\u001b[0m\u001b[0;34m)\u001b[0m\u001b[0;34m)\u001b[0m\u001b[0;34m:\u001b[0m\u001b[0;34m\u001b[0m\u001b[0;34m\u001b[0m\u001b[0m\n\u001b[1;32m      5\u001b[0m     \u001b[0mprint\u001b[0m\u001b[0;34m(\u001b[0m\u001b[0mstr\u001b[0m\u001b[0;34m(\u001b[0m\u001b[0mmult\u001b[0m\u001b[0;34m[\u001b[0m\u001b[0mj\u001b[0m\u001b[0;34m]\u001b[0m\u001b[0;34m)\u001b[0m \u001b[0;34m+\u001b[0m \u001b[0;34m\":\"\u001b[0m\u001b[0;34m,\u001b[0m \u001b[0mhtml\u001b[0m\u001b[0;34m.\u001b[0m\u001b[0munescape\u001b[0m\u001b[0;34m(\u001b[0m\u001b[0mans\u001b[0m\u001b[0;34m[\u001b[0m\u001b[0mj\u001b[0m\u001b[0;34m]\u001b[0m\u001b[0;34m)\u001b[0m\u001b[0;34m)\u001b[0m\u001b[0;34m\u001b[0m\u001b[0;34m\u001b[0m\u001b[0m\n",
            "\u001b[0;31mIndexError\u001b[0m: list index out of range"
          ]
        }
      ]
    },
    {
      "cell_type": "code",
      "metadata": {
        "colab": {
          "base_uri": "https://localhost:8080/"
        },
        "id": "44c0c159",
        "outputId": "f03e7923-295f-4910-987b-cd0fa9f65b28"
      },
      "source": [
        "print(answers[i])\n",
        "i += 1"
      ],
      "id": "44c0c159",
      "execution_count": null,
      "outputs": [
        {
          "output_type": "stream",
          "name": "stdout",
          "text": [
            "DJ_Hyperfresh\n"
          ]
        }
      ]
    },
    {
      "cell_type": "code",
      "metadata": {
        "id": "7a7340a5"
      },
      "source": [
        "\n"
      ],
      "id": "7a7340a5",
      "execution_count": null,
      "outputs": []
    },
    {
      "cell_type": "code",
      "metadata": {
        "id": "add103e6"
      },
      "source": [
        ""
      ],
      "id": "add103e6",
      "execution_count": null,
      "outputs": []
    }
  ]
}